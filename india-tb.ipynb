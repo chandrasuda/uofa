{
 "cells": [
  {
   "cell_type": "code",
   "execution_count": 1,
   "id": "07c2de23",
   "metadata": {},
   "outputs": [],
   "source": [
    "import matplotlib.pyplot as plt\n",
    "import librosa\n",
    "import pandas as pd\n",
    "import os\n",
    "import numpy as np\n",
    "from sklearn.model_selection import train_test_split"
   ]
  },
  {
   "cell_type": "code",
   "execution_count": 2,
   "id": "2c8bfbb7",
   "metadata": {},
   "outputs": [],
   "source": [
    "import os\n",
    "import pathlib\n",
    "import glob\n",
    "import matplotlib.pyplot as plt\n",
    "import numpy as np\n",
    "import seaborn as sns\n",
    "import tensorflow as tf\n",
    "\n",
    "from tensorflow.keras import layers\n",
    "from tensorflow.keras import models\n",
    "from IPython import display\n",
    "\n",
    "# Set the seed value for experiment reproducibility.\n",
    "seed = 42\n",
    "tf.random.set_seed(seed)\n",
    "np.random.seed(seed)"
   ]
  },
  {
   "cell_type": "markdown",
   "id": "693d6b19",
   "metadata": {},
   "source": [
    "#### Function to read audio from .wav files"
   ]
  },
  {
   "cell_type": "code",
   "execution_count": 3,
   "id": "24c80f14",
   "metadata": {},
   "outputs": [],
   "source": [
    "def read_audio(x):\n",
    "    y = librosa.load(x)[0]\n",
    "    return librosa.util.fix_length(y, size=11025)"
   ]
  },
  {
   "cell_type": "markdown",
   "id": "61008c02",
   "metadata": {},
   "source": [
    "#### Function to convert each audiowave into mel-spectrogram images"
   ]
  },
  {
   "cell_type": "code",
   "execution_count": 4,
   "id": "3a1409bf",
   "metadata": {},
   "outputs": [],
   "source": [
    "def calc_mel_spectrogram(y, sr = 22050, n_fft = 2048, hop_length = 512, n_mels=128):\n",
    "    spect = librosa.feature.melspectrogram(y=y, n_fft=n_fft, sr=sr, hop_length=hop_length, n_mels = n_mels)\n",
    "    return librosa.power_to_db(spect, ref=np.max)\n",
    "    "
   ]
  },
  {
   "cell_type": "markdown",
   "id": "42d471da",
   "metadata": {},
   "source": [
    "#### Function to assign labels to each audio file based on patient metadata (clinical information)"
   ]
  },
  {
   "cell_type": "code",
   "execution_count": 5,
   "id": "db268e15",
   "metadata": {},
   "outputs": [],
   "source": [
    "def find_label(participant):\n",
    "    return clinical_data['tb_status'][clinical_data['participant']==participant].to_list()[0]"
   ]
  },
  {
   "cell_type": "markdown",
   "id": "54429349",
   "metadata": {},
   "source": [
    "##### Reading metadata and clinical_information file from the directory and assigning labels to each audio file"
   ]
  },
  {
   "cell_type": "code",
   "execution_count": 6,
   "id": "4123c984",
   "metadata": {},
   "outputs": [],
   "source": [
    "clinical_data = pd.read_csv(\"/Users/sudac/Downloads/Clinical_Meta.csv\")\n",
    "metadata_solicited = pd.read_csv(\"/Users/sudac/Downloads/Solicited_Meta.csv\")"
   ]
  },
  {
   "cell_type": "code",
   "execution_count": 8,
   "id": "638a9869",
   "metadata": {},
   "outputs": [
    {
     "name": "stderr",
     "output_type": "stream",
     "text": [
      "/var/folders/7q/m4xnvvz54q5bmp4svjrhzn8wyyhlpq/T/ipykernel_28553/2004086151.py:1: FutureWarning: the convert_dtype parameter is deprecated and will be removed in a future version.  Do ``ser.astype(object).apply()`` instead if you want ``convert_dtype=False``.\n",
      "  label = metadata_solicited['participant'].apply(find_label, convert_dtype=True, args=())\n"
     ]
    }
   ],
   "source": [
    "label = metadata_solicited['participant'].apply(find_label, convert_dtype=True, args=())\n",
    "metadata_solicited['label'] = label\n",
    "metadata_solicited['relative_path'] = '/Users/sudac/Downloads/solicited/' + metadata_solicited['filename']\n"
   ]
  },
  {
   "cell_type": "code",
   "execution_count": 9,
   "id": "b82a0530",
   "metadata": {},
   "outputs": [
    {
     "name": "stdout",
     "output_type": "stream",
     "text": [
      "       participant                       filename  sound_prediction_score  \\\n",
      "0     CODA_TB_0001  1645088710003-recording-1.wav                0.990254   \n",
      "1     CODA_TB_0001  1645088760390-recording-1.wav                0.990272   \n",
      "2     CODA_TB_0001  1645088760830-recording-1.wav                0.990112   \n",
      "3     CODA_TB_0001  1645088710843-recording-1.wav                0.990152   \n",
      "4     CODA_TB_0001  1645088759950-recording-1.wav                0.990039   \n",
      "...            ...                            ...                     ...   \n",
      "9767  CODA_TB_1107  1658214018804-recording-1.wav                0.941761   \n",
      "9768  CODA_TB_1107  1658213992939-recording-1.wav                0.904569   \n",
      "9769  CODA_TB_1107  1658213992139-recording-1.wav                0.934713   \n",
      "9770  CODA_TB_1107  1658213940569-recording-1.wav                0.912813   \n",
      "9771  CODA_TB_1107  1658213974948-recording-1.wav                0.939352   \n",
      "\n",
      "      label                                      relative_path  \n",
      "0         0  /Users/sudac/Downloads/solicited/1645088710003...  \n",
      "1         0  /Users/sudac/Downloads/solicited/1645088760390...  \n",
      "2         0  /Users/sudac/Downloads/solicited/1645088760830...  \n",
      "3         0  /Users/sudac/Downloads/solicited/1645088710843...  \n",
      "4         0  /Users/sudac/Downloads/solicited/1645088759950...  \n",
      "...     ...                                                ...  \n",
      "9767      0  /Users/sudac/Downloads/solicited/1658214018804...  \n",
      "9768      0  /Users/sudac/Downloads/solicited/1658213992939...  \n",
      "9769      0  /Users/sudac/Downloads/solicited/1658213992139...  \n",
      "9770      0  /Users/sudac/Downloads/solicited/1658213940569...  \n",
      "9771      0  /Users/sudac/Downloads/solicited/1658213974948...  \n",
      "\n",
      "[9772 rows x 5 columns]\n"
     ]
    }
   ],
   "source": [
    "print(metadata_solicited)"
   ]
  },
  {
   "cell_type": "markdown",
   "id": "c2aa1592",
   "metadata": {},
   "source": [
    "#### Splits a Pandas dataframe into three subsets (train, val, and test) following fractional ratios provided by the user"
   ]
  },
  {
   "cell_type": "code",
   "execution_count": 10,
   "id": "323005f5",
   "metadata": {},
   "outputs": [],
   "source": [
    "import pandas as pd\n",
    "from sklearn.model_selection import train_test_split\n",
    "\n",
    "def split_stratified_into_train_val_test(df_input, stratify_colname='label',\n",
    "                                         frac_train=0.70, frac_val=0.15, frac_test=0.15,\n",
    "                                         random_state=1):\n",
    "    if round(frac_train + frac_val + frac_test) != 1.0:\n",
    "        raise ValueError('fractions %f, %f, %f do not add up to 1.0' % \\\n",
    "                         (frac_train, frac_val, frac_test))\n",
    "\n",
    "    if stratify_colname not in df_input.columns:\n",
    "        raise ValueError('%s is not a column in the dataframe' % (stratify_colname))\n",
    "\n",
    "    # Ensure stratify_colname is a string\n",
    "    stratify_colname = str(stratify_colname)\n",
    "\n",
    "    # Create a dictionary to map the random labels to their corresponding percentages\n",
    "    split_dict = {'train': frac_train, 'val': frac_val, 'test': frac_test}\n",
    "\n",
    "    # Randomly assign 'train', 'val', 'test' labels based on the split percentages\n",
    "    def assign_split_label(participant_group):\n",
    "        return np.random.choice(['train', 'val', 'test'], p=[split_dict['train'], split_dict['val'], split_dict['test']])\n",
    "\n",
    "    # Assuming df_input is your DataFrame containing participant information\n",
    "    df_input['split_label'] = df_input.groupby(stratify_colname)[stratify_colname].transform(assign_split_label)\n",
    "    df_input = df_input.reset_index(drop=True)\n",
    "\n",
    "    # Split the dataframe into train, val, and test based on the assigned labels\n",
    "    df_train = df_input[df_input['split_label'] == 'train']\n",
    "    df_val = df_input[df_input['split_label'] == 'val']\n",
    "    df_test = df_input[df_input['split_label'] == 'test']\n",
    "\n",
    "    assert len(df_input) == len(df_train) + len(df_val) + len(df_test)\n",
    "\n",
    "    return df_train, df_val, df_test\n",
    "\n",
    "# Example usage\n",
    "df_train, df_val, df_test = split_stratified_into_train_val_test(metadata_solicited, stratify_colname=\"participant\", random_state=42)\n"
   ]
  },
  {
   "cell_type": "code",
   "execution_count": 29,
   "id": "6a05272d",
   "metadata": {},
   "outputs": [],
   "source": []
  },
  {
   "cell_type": "code",
   "execution_count": 11,
   "id": "aa477952",
   "metadata": {},
   "outputs": [
    {
     "name": "stdout",
     "output_type": "stream",
     "text": [
      "Number of unique participants: 1082\n"
     ]
    }
   ],
   "source": [
    "num_unique_participants = len(metadata_solicited['participant'].unique())\n",
    "print(f\"Number of unique participants: {num_unique_participants}\")\n"
   ]
  },
  {
   "cell_type": "markdown",
   "id": "e4f87673",
   "metadata": {},
   "source": [
    "##### The metadata data file is split into 3 components in the ratio train:val:test = 6:2:2"
   ]
  },
  {
   "cell_type": "code",
   "execution_count": 12,
   "id": "d2df3a00",
   "metadata": {},
   "outputs": [
    {
     "name": "stdout",
     "output_type": "stream",
     "text": [
      "Participant CODA_TB_001 is in the test set.\n"
     ]
    }
   ],
   "source": [
    "# Print information for participant \"CODA_TB_001\"\n",
    "participant_id_column = 'participant'  # Replace with the actual column name representing participant IDs\n",
    "\n",
    "if 'CODA_TB_0002' in df_train[participant_id_column].values:\n",
    "    print(\"Participant CODA_TB_001 is in the training set.\")\n",
    "if 'CODA_TB_0002' in df_val[participant_id_column].values:\n",
    "    print(\"Participant CODA_TB_001 is in the validation set.\")\n",
    "if 'CODA_TB_0002' in df_test[participant_id_column].values:\n",
    "    print(\"Participant CODA_TB_001 is in the test set.\")\n",
    "\n"
   ]
  },
  {
   "cell_type": "markdown",
   "id": "04797105",
   "metadata": {},
   "source": [
    "##### Read all the files (train, test and val) and converting them into mel-spectrogram images"
   ]
  },
  {
   "cell_type": "code",
   "execution_count": 13,
   "id": "271d5b82",
   "metadata": {},
   "outputs": [
    {
     "name": "stderr",
     "output_type": "stream",
     "text": [
      "Processing Files:   0%|          | 0/1580 [00:00<?, ?file/s]"
     ]
    },
    {
     "name": "stderr",
     "output_type": "stream",
     "text": [
      "Processing Files: 100%|██████████| 1580/1580 [00:01<00:00, 859.15file/s] \n"
     ]
    }
   ],
   "source": [
    "from tqdm import tqdm\n",
    "# Assuming df_test['relative_path'] is a column containing file paths\n",
    "file_paths_test = df_test['relative_path'].tolist()\n",
    "\n",
    "# Process files sequentially\n",
    "list_audio_test = []\n",
    "for file_path in tqdm(file_paths_test, desc=\"Processing Files\", unit=\"file\"):\n",
    "    list_audio_test.append(read_audio(file_path))\n"
   ]
  },
  {
   "cell_type": "code",
   "execution_count": 14,
   "id": "60319e86",
   "metadata": {},
   "outputs": [
    {
     "name": "stderr",
     "output_type": "stream",
     "text": [
      "Processing Files: 100%|██████████| 6806/6806 [00:04<00:00, 1542.21file/s]\n"
     ]
    }
   ],
   "source": [
    "from tqdm import tqdm\n",
    "# Assuming df_test['relative_path'] is a column containing file paths\n",
    "file_paths_train = df_train['relative_path'].tolist()\n",
    "\n",
    "# Process files sequentially\n",
    "list_audio_train = []\n",
    "for file_path in tqdm(file_paths_train, desc=\"Processing Files\", unit=\"file\"):\n",
    "    list_audio_train.append(read_audio(file_path))\n"
   ]
  },
  {
   "cell_type": "code",
   "execution_count": 15,
   "id": "337bcf3d",
   "metadata": {},
   "outputs": [
    {
     "name": "stderr",
     "output_type": "stream",
     "text": [
      "Processing Files: 100%|██████████| 1386/1386 [00:00<00:00, 1601.13file/s]\n"
     ]
    }
   ],
   "source": [
    "from tqdm import tqdm\n",
    "# Assuming df_test['relative_path'] is a column containing file paths\n",
    "file_paths_val = df_val['relative_path'].tolist()\n",
    "\n",
    "# Process files sequentially\n",
    "list_audio_val = []\n",
    "for file_path in tqdm(file_paths_val, desc=\"Processing Files\", unit=\"file\"):\n",
    "    list_audio_val.append(read_audio(file_path))"
   ]
  },
  {
   "cell_type": "code",
   "execution_count": 16,
   "id": "fc2d2298",
   "metadata": {},
   "outputs": [
    {
     "name": "stderr",
     "output_type": "stream",
     "text": [
      "Calculating Mel Spectrogram (Train): 100%|██████████| 6806/6806 [00:18<00:00, 365.13it/s]\n",
      "Calculating Mel Spectrogram (Validation): 100%|██████████| 1386/1386 [00:04<00:00, 335.41it/s]\n",
      "Calculating Mel Spectrogram (Test): 100%|██████████| 1580/1580 [00:04<00:00, 351.16it/s]\n"
     ]
    }
   ],
   "source": [
    "# import numpy as np\n",
    "# from tqdm import tqdm\n",
    "\n",
    "# # Define the function to calculate mel spectrogram with tqdm progress bar\n",
    "# def calc_mel_spectrogram_with_progress(audio_path):\n",
    "#     return calc_mel_spectrogram(audio_path)\n",
    "\n",
    "# # Use tqdm for progress bar during mel spectrogram calculation\n",
    "# mel_spectrogram_train = np.array(list(tqdm(map(calc_mel_spectrogram_with_progress, list_audio_train), total=len(list_audio_train), desc=\"Calculating Mel Spectrogram (Train)\")))\n",
    "# mel_spectrogram_val = np.array(list(tqdm(map(calc_mel_spectrogram_with_progress, list_audio_val), total=len(list_audio_val), desc=\"Calculating Mel Spectrogram (Validation)\")))\n",
    "# mel_spectrogram_test = np.array(list(tqdm(map(calc_mel_spectrogram_with_progress, list_audio_test), total=len(list_audio_test), desc=\"Calculating Mel Spectrogram (Test)\")))\n",
    "\n",
    "# # Save mel spectrograms to files\n",
    "# np.save('mel_spectrogram_train.npy', mel_spectrogram_train)\n",
    "# np.save('mel_spectrogram_val.npy', mel_spectrogram_val)\n",
    "# np.save('mel_spectrogram_test.npy', mel_spectrogram_test)\n"
   ]
  },
  {
   "cell_type": "code",
   "execution_count": 25,
   "id": "eeb56c34",
   "metadata": {},
   "outputs": [],
   "source": [
    "import matplotlib.pyplot as plt\n",
    "import numpy as np\n",
    "import seaborn as sns\n",
    "import tensorflow as tf\n",
    "import pandas as pd\n",
    "import librosa\n",
    "\n",
    "\n",
    "from tensorflow.keras import layers\n",
    "from tensorflow.keras import models\n",
    "from IPython import display"
   ]
  },
  {
   "cell_type": "code",
   "execution_count": 26,
   "id": "75b3bed8",
   "metadata": {},
   "outputs": [],
   "source": [
    "# load mel spectrograms from files\n",
    "mel_spectrogram_train = np.load('mel_spectrogram_train.npy')\n",
    "mel_spectrogram_val = np.load('mel_spectrogram_val.npy')\n",
    "mel_spectrogram_test = np.load('mel_spectrogram_test.npy')\n",
    "\n",
    "X_train = np.expand_dims(mel_spectrogram_train, -1)\n",
    "X_val = np.expand_dims(mel_spectrogram_val, -1)\n",
    "X_test = np.expand_dims(mel_spectrogram_test, -1)"
   ]
  },
  {
   "cell_type": "code",
   "execution_count": 27,
   "id": "71e21102",
   "metadata": {},
   "outputs": [
    {
     "name": "stdout",
     "output_type": "stream",
     "text": [
      "label\n",
      "0    4807\n",
      "1    1999\n",
      "Name: count, dtype: int64\n",
      "label\n",
      "0    983\n",
      "1    403\n",
      "Name: count, dtype: int64\n",
      "label\n",
      "0    1052\n",
      "1     528\n",
      "Name: count, dtype: int64\n"
     ]
    }
   ],
   "source": [
    "# load df from file \n",
    "df_train = pd.read_csv('/Users/sudac/Downloads/solicited/train.csv')\n",
    "df_val = pd.read_csv('/Users/sudac/Downloads/solicited/val.csv')\n",
    "df_test = pd.read_csv('/Users/sudac/Downloads/solicited/test.csv')\n",
    "\n",
    "y_train = df_train['label']\n",
    "y_val = df_val['label']\n",
    "y_test = df_test['label']\n",
    "\n",
    "print(df_train['label'].value_counts())\n",
    "print(df_val['label'].value_counts())\n",
    "print(df_test['label'].value_counts())"
   ]
  },
  {
   "cell_type": "code",
   "execution_count": 28,
   "id": "3fb2559e",
   "metadata": {},
   "outputs": [],
   "source": [
    "# librosa.display.waveshow(list_audio_train[0])"
   ]
  },
  {
   "cell_type": "code",
   "execution_count": 29,
   "id": "a3782827",
   "metadata": {},
   "outputs": [
    {
     "data": {
      "text/plain": [
       "<matplotlib.collections.QuadMesh at 0x30b32fbd0>"
      ]
     },
     "execution_count": 29,
     "metadata": {},
     "output_type": "execute_result"
    },
    {
     "data": {
      "image/png": "[encoded data removed]",
      "text/plain": [
       "<Figure size 640x480 with 1 Axes>"
      ]
     },
     "metadata": {},
     "output_type": "display_data"
    }
   ],
   "source": [
    "librosa.display.specshow(mel_spectrogram_train[1], y_axis='mel', x_axis='time', auto_aspect=True)\n",
    "#plt.savefig()"
   ]
  },
  {
   "cell_type": "markdown",
   "id": "3bd3ad07",
   "metadata": {},
   "source": [
    "#### Model development using tensorflow"
   ]
  },
  {
   "cell_type": "code",
   "execution_count": 30,
   "id": "18045b9f",
   "metadata": {},
   "outputs": [
    {
     "name": "stdout",
     "output_type": "stream",
     "text": [
      "Input shape: (128, 22, 1)\n",
      "Model: \"sequential_1\"\n",
      "_________________________________________________________________\n",
      " Layer (type)                Output Shape              Param #   \n",
      "=================================================================\n",
      " resizing_1 (Resizing)       (None, 128, 128, 1)       0         \n",
      "                                                                 \n",
      " conv2d_4 (Conv2D)           (None, 126, 126, 16)      160       \n",
      "                                                                 \n",
      " average_pooling2d_4 (Avera  (None, 63, 63, 16)        0         \n",
      " gePooling2D)                                                    \n",
      "                                                                 \n",
      " conv2d_5 (Conv2D)           (None, 61, 61, 16)        2320      \n",
      "                                                                 \n",
      " average_pooling2d_5 (Avera  (None, 30, 30, 16)        0         \n",
      " gePooling2D)                                                    \n",
      "                                                                 \n",
      " conv2d_6 (Conv2D)           (None, 28, 28, 32)        4640      \n",
      "                                                                 \n",
      " average_pooling2d_6 (Avera  (None, 14, 14, 32)        0         \n",
      " gePooling2D)                                                    \n",
      "                                                                 \n",
      " conv2d_7 (Conv2D)           (None, 12, 12, 64)        18496     \n",
      "                                                                 \n",
      " average_pooling2d_7 (Avera  (None, 6, 6, 64)          0         \n",
      " gePooling2D)                                                    \n",
      "                                                                 \n",
      " dropout_2 (Dropout)         (None, 6, 6, 64)          0         \n",
      "                                                                 \n",
      " flatten_1 (Flatten)         (None, 2304)              0         \n",
      "                                                                 \n",
      " dense_2 (Dense)             (None, 128)               295040    \n",
      "                                                                 \n",
      " dropout_3 (Dropout)         (None, 128)               0         \n",
      "                                                                 \n",
      " dense_3 (Dense)             (None, 1)                 129       \n",
      "                                                                 \n",
      "=================================================================\n",
      "Total params: 320785 (1.22 MB)\n",
      "Trainable params: 320785 (1.22 MB)\n",
      "Non-trainable params: 0 (0.00 Byte)\n",
      "_________________________________________________________________\n"
     ]
    }
   ],
   "source": [
    "input_shape = X_train.shape[1:]\n",
    "print('Input shape:', input_shape)\n",
    "\n",
    "model = models.Sequential([\n",
    "    layers.Input(shape=input_shape),\n",
    "    layers.Resizing(128, 128),\n",
    "\n",
    "    layers.Conv2D(16, 3, activation='relu'),\n",
    "    layers.AveragePooling2D(),  \n",
    "\n",
    "    layers.Conv2D(16, 3, activation='relu'),\n",
    "    layers.AveragePooling2D(),\n",
    "\n",
    "    layers.Conv2D(32, 3, activation='relu'),\n",
    "    layers.AveragePooling2D(),\n",
    "\n",
    "    layers.Conv2D(64, 3, activation='relu'),\n",
    "    layers.AveragePooling2D(),\n",
    "\n",
    "\n",
    "    layers.Dropout(0.2),\n",
    "    layers.Flatten(),\n",
    "\n",
    "    layers.Dense(128, activation='relu'),\n",
    "    layers.Dropout(0.2),\n",
    "\n",
    "    layers.Dense(1, activation='sigmoid'),\n",
    "])\n",
    "\n",
    "model.summary()\n"
   ]
  },
  {
   "cell_type": "code",
   "execution_count": 31,
   "id": "f34eee34",
   "metadata": {},
   "outputs": [
    {
     "name": "stderr",
     "output_type": "stream",
     "text": [
      "WARNING:absl:At this time, the v2.11+ optimizer `tf.keras.optimizers.Adam` runs slowly on M1/M2 Macs, please use the legacy Keras optimizer instead, located at `tf.keras.optimizers.legacy.Adam`.\n"
     ]
    }
   ],
   "source": [
    "import tensorflow as tf\n",
    "from tensorflow.keras import backend as K\n",
    "\n",
    "def focal_loss(y_true, y_pred, gamma=2.0, alpha=0.25):\n",
    "    # Convert alpha to the same data type as y_true and y_pred\n",
    "    alpha = tf.cast(alpha, dtype=K.floatx())\n",
    "\n",
    "    # Cast y_true to the same data type as y_pred\n",
    "    y_true = tf.cast(y_true, dtype=K.floatx())\n",
    "\n",
    "    # Clip the predicted values to avoid log(0) issues\n",
    "    y_pred = K.clip(y_pred, K.epsilon(), 1 - K.epsilon())\n",
    "\n",
    "    # Calculate the focal loss\n",
    "    focal_loss = - (alpha * y_true * K.pow(1 - y_pred, gamma) * K.log(y_pred) +\n",
    "                    (1 - alpha) * (1 - y_true) * K.pow(y_pred, gamma) * K.log(1 - y_pred))\n",
    "\n",
    "    return K.mean(focal_loss)\n",
    "\n",
    "\n",
    "\n",
    "\n",
    "model.compile(\n",
    "    optimizer=tf.keras.optimizers.Adam(learning_rate=0.0008),\n",
    "    loss=focal_loss,\n",
    "    metrics=['accuracy', 'AUC'],\n",
    ")\n"
   ]
  },
  {
   "cell_type": "code",
   "execution_count": 32,
   "id": "39d9ff6b",
   "metadata": {},
   "outputs": [
    {
     "name": "stdout",
     "output_type": "stream",
     "text": [
      "Epoch 1/100\n"
     ]
    },
    {
     "name": "stderr",
     "output_type": "stream",
     "text": [
      "2023-12-24 14:27:02.447172: E tensorflow/core/grappler/optimizers/meta_optimizer.cc:961] model_pruner failed: INVALID_ARGUMENT: Graph does not contain terminal node Adam/AssignAddVariableOp.\n"
     ]
    },
    {
     "name": "stdout",
     "output_type": "stream",
     "text": [
      "213/213 [==============================] - 9s 36ms/step - loss: 1.1862 - accuracy: 0.7044 - auc: 0.4996 - val_loss: 1.1716 - val_accuracy: 0.7092 - val_auc: 0.5000\n",
      "Epoch 2/100\n",
      "213/213 [==============================] - 7s 33ms/step - loss: 1.1835 - accuracy: 0.7063 - auc: 0.5000 - val_loss: 1.1716 - val_accuracy: 0.7092 - val_auc: 0.5000\n",
      "Epoch 3/100\n",
      "213/213 [==============================] - 7s 32ms/step - loss: 1.1835 - accuracy: 0.7063 - auc: 0.5000 - val_loss: 1.1716 - val_accuracy: 0.7092 - val_auc: 0.5000\n",
      "Epoch 4/100\n",
      "213/213 [==============================] - 7s 31ms/step - loss: 1.1835 - accuracy: 0.7063 - auc: 0.5000 - val_loss: 1.1716 - val_accuracy: 0.7092 - val_auc: 0.5000\n",
      "Epoch 5/100\n",
      "213/213 [==============================] - 6s 30ms/step - loss: 1.1835 - accuracy: 0.7063 - auc: 0.5000 - val_loss: 1.1716 - val_accuracy: 0.7092 - val_auc: 0.5000\n",
      "Epoch 6/100\n",
      "212/213 [============================>.] - ETA: 0s - loss: 1.1844 - accuracy: 0.7061 - auc: 0.5000Restoring model weights from the end of the best epoch: 1.\n",
      "213/213 [==============================] - 6s 29ms/step - loss: 1.1835 - accuracy: 0.7063 - auc: 0.5000 - val_loss: 1.1716 - val_accuracy: 0.7092 - val_auc: 0.5000\n",
      "Epoch 6: early stopping\n"
     ]
    }
   ],
   "source": [
    "EPOCHS = 100\n",
    "history = model.fit(\n",
    "    X_train, y_train,\n",
    "    validation_data= (X_val, y_val),\n",
    "    epochs=EPOCHS,\n",
    "    callbacks=tf.keras.callbacks.EarlyStopping(monitor='val_loss', verbose=1, patience=5, restore_best_weights=True),\n",
    ")\n"
   ]
  },
  {
   "cell_type": "markdown",
   "id": "f8f44fee",
   "metadata": {},
   "source": [
    "#### Validating the performance of the model on individual audio"
   ]
  },
  {
   "cell_type": "code",
   "execution_count": 33,
   "id": "479c972a",
   "metadata": {},
   "outputs": [
    {
     "name": "stdout",
     "output_type": "stream",
     "text": [
      "50/50 [==============================] - 1s 9ms/step\n",
      "ROC AUC Score: 0.499971194838115\n",
      "Sensitivity: 0.017045454545454544\n",
      "Specificity: 0.9923954372623575\n"
     ]
    },
    {
     "data": {
      "image/png": "[encoded data removed]",
      "text/plain": [
       "<Figure size 800x600 with 2 Axes>"
      ]
     },
     "metadata": {},
     "output_type": "display_data"
    },
    {
     "name": "stdout",
     "output_type": "stream",
     "text": [
      "       participant                       filename  sound_prediction_score  \\\n",
      "0     CODA_TB_0002  1643791257235-recording-1.wav                0.990237   \n",
      "1     CODA_TB_0002  1643791282515-recording-1.wav                0.984813   \n",
      "2     CODA_TB_0002  1643791201453-recording-1.wav                0.989808   \n",
      "3     CODA_TB_0002  1643791203573-recording-1.wav                0.990205   \n",
      "4     CODA_TB_0002  1643791177587-recording-1.wav                0.990183   \n",
      "...            ...                            ...                     ...   \n",
      "1575  CODA_TB_1105  1645692755262-recording-1.wav                0.987976   \n",
      "1576  CODA_TB_1105  1645692677308-recording-1.wav                0.989960   \n",
      "1577  CODA_TB_1105  1645692700378-recording-1.wav                0.990154   \n",
      "1578  CODA_TB_1105  1645692720921-recording-1.wav                0.990138   \n",
      "1579  CODA_TB_1105  1645692738158-recording-1.wav                0.989462   \n",
      "\n",
      "      label                                      relative_path split_label  \\\n",
      "0         1  /Users/sudac/Downloads/solicited/1643791257235...        test   \n",
      "1         1  /Users/sudac/Downloads/solicited/1643791282515...        test   \n",
      "2         1  /Users/sudac/Downloads/solicited/1643791201453...        test   \n",
      "3         1  /Users/sudac/Downloads/solicited/1643791203573...        test   \n",
      "4         1  /Users/sudac/Downloads/solicited/1643791177587...        test   \n",
      "...     ...                                                ...         ...   \n",
      "1575      0  /Users/sudac/Downloads/solicited/1645692755262...        test   \n",
      "1576      0  /Users/sudac/Downloads/solicited/1645692677308...        test   \n",
      "1577      0  /Users/sudac/Downloads/solicited/1645692700378...        test   \n",
      "1578      0  /Users/sudac/Downloads/solicited/1645692720921...        test   \n",
      "1579      0  /Users/sudac/Downloads/solicited/1645692738158...        test   \n",
      "\n",
      "      probability  \n",
      "0             0.0  \n",
      "1             0.0  \n",
      "2             0.0  \n",
      "3             0.0  \n",
      "4             0.0  \n",
      "...           ...  \n",
      "1575          0.0  \n",
      "1576          0.0  \n",
      "1577          0.0  \n",
      "1578          0.0  \n",
      "1579          0.0  \n",
      "\n",
      "[1580 rows x 7 columns]\n"
     ]
    }
   ],
   "source": [
    "import seaborn as sns\n",
    "import matplotlib.pyplot as plt\n",
    "from sklearn.metrics import confusion_matrix, roc_auc_score, roc_curve\n",
    "\n",
    "y_pred_probs = model.predict(X_test)\n",
    "y_pred_binary = (y_pred_probs > 0.5).astype(int)\n",
    "\n",
    "# Add a probability column to your DataFrame (assuming you have one)\n",
    "df_test['probability'] = y_pred_probs\n",
    "\n",
    "# Calculate ROC AUC score\n",
    "roc_auc = roc_auc_score(y_test, y_pred_probs)\n",
    "print(\"ROC AUC Score:\", roc_auc)\n",
    "\n",
    "# Calculate the optimal threshold\n",
    "fpr, tpr, thresholds = roc_curve(y_test, y_pred_probs)\n",
    "optimal_idx = np.argmax(tpr - fpr)\n",
    "optimal_threshold = thresholds[optimal_idx]\n",
    "\n",
    "# Update y_pred_binary based on the optimal threshold\n",
    "y_pred_binary_optimal = (y_pred_probs > optimal_threshold).astype(int)\n",
    "\n",
    "# Print Sensitivity and Specificity\n",
    "print(\"Sensitivity:\", tpr[optimal_idx])\n",
    "print(\"Specificity:\", 1 - fpr[optimal_idx])\n",
    "\n",
    "# Calculate the confusion matrix\n",
    "conf_matrix = confusion_matrix(y_test, y_pred_binary_optimal)\n",
    "\n",
    "# Create a seaborn heatmap for the confusion matrix\n",
    "plt.figure(figsize=(8, 6))\n",
    "sns.heatmap(conf_matrix, annot=True, fmt=\"d\", cmap=\"Blues\", annot_kws={\"size\": 14})\n",
    "plt.xlabel(\"Predicted Labels\", fontsize=14)\n",
    "plt.ylabel(\"True Labels\", fontsize=14)\n",
    "plt.title(\"Confusion Matrix\", fontsize=16)\n",
    "plt.show()\n",
    "\n",
    "print(df_test)\n",
    "df_test.to_csv('solicited_individual_audio.csv', index=False)"
   ]
  },
  {
   "cell_type": "markdown",
   "id": "a54805ea",
   "metadata": {},
   "source": [
    "#### Validating the performance of the model on individual patient"
   ]
  },
  {
   "cell_type": "code",
   "execution_count": 34,
   "id": "ae2891f9",
   "metadata": {},
   "outputs": [
    {
     "name": "stdout",
     "output_type": "stream",
     "text": [
      "\n",
      "Metrics for Mean Probability:\n",
      "ROC AUC Score: 0.5533536585365854\n",
      "\n",
      "Metrics for Default Threshold (0.5):\n",
      "Sensitivity: 0.0\n",
      "Specificity: 1.0\n",
      "Accuracy: 0.7192982456140351\n",
      "\n",
      "Best Threshold (Optimal): 0.0\n",
      "Metrics for Optimal Threshold:\n",
      "Sensitivity: 0.25\n",
      "Specificity: 0.8617886178861789\n",
      "Accuracy: 0.6900584795321637\n",
      "\n",
      "Metrics for Median Probability:\n",
      "ROC AUC Score: 0.4959349593495935\n",
      "\n",
      "Metrics for Default Threshold (0.5):\n",
      "Sensitivity: 0.0\n",
      "Specificity: 1.0\n",
      "Accuracy: 0.7192982456140351\n",
      "\n",
      "Best Threshold (Optimal): 0.5\n",
      "Metrics for Optimal Threshold:\n",
      "Sensitivity: 0.0\n",
      "Specificity: 1.0\n",
      "Accuracy: 0.7192982456140351\n",
      "\n",
      "Metrics for Range Probability:\n",
      "ROC AUC Score: 0.5525067750677506\n",
      "\n",
      "Metrics for Default Threshold (0.5):\n",
      "Sensitivity: 0.0\n",
      "Specificity: 1.0\n",
      "Accuracy: 0.7192982456140351\n",
      "\n",
      "Best Threshold (Optimal): 0.0\n",
      "Metrics for Optimal Threshold:\n",
      "Sensitivity: 0.25\n",
      "Specificity: 0.8617886178861789\n",
      "Accuracy: 0.6900584795321637\n"
     ]
    }
   ],
   "source": [
    "import numpy as np\n",
    "import pandas as pd\n",
    "from sklearn.metrics import roc_auc_score, confusion_matrix\n",
    "\n",
    "# Assuming df_val is your DataFrame with columns 'participant', 'label', and 'probability'\n",
    "# Replace this with your actual DataFrame if necessary\n",
    "\n",
    "# Function to calculate metrics at a given threshold\n",
    "def calculate_metrics(y_true, y_prob, threshold=0.5):\n",
    "    y_pred_binary = (y_prob > threshold).astype(int)\n",
    "    conf_matrix = confusion_matrix(y_true, y_pred_binary)\n",
    "    \n",
    "    sensitivity = conf_matrix[1, 1] / (conf_matrix[1, 1] + conf_matrix[1, 0])\n",
    "    specificity = conf_matrix[0, 0] / (conf_matrix[0, 0] + conf_matrix[0, 1])\n",
    "    accuracy = (conf_matrix[0, 0] + conf_matrix[1, 1]) / np.sum(conf_matrix)\n",
    "    \n",
    "    return sensitivity, specificity, accuracy\n",
    "\n",
    "# Function to print metrics for a given feature type (mean, median, range)\n",
    "def print_metrics(feature_type, y_true, y_prob):\n",
    "    print(f\"\\nMetrics for {feature_type.capitalize()} Probability:\")\n",
    "\n",
    "    # Calculate ROC AUC score\n",
    "    roc_auc = roc_auc_score(y_true, y_prob)\n",
    "    print(\"ROC AUC Score:\", roc_auc)\n",
    "\n",
    "    # Calculate metrics for the default threshold (0.5)\n",
    "    sensitivity_default, specificity_default, accuracy_default = calculate_metrics(y_true, y_prob)\n",
    "    print(\"\\nMetrics for Default Threshold (0.5):\")\n",
    "    print(\"Sensitivity:\", sensitivity_default)\n",
    "    print(\"Specificity:\", specificity_default)\n",
    "    print(\"Accuracy:\", accuracy_default)\n",
    "\n",
    "    # Iterate over different thresholds and find the optimal threshold\n",
    "    thresholds = np.arange(0.0, 1.0, 0.0001)\n",
    "    best_threshold = 0.5\n",
    "    best_youden_index = 0\n",
    "\n",
    "    for threshold in thresholds:\n",
    "        sensitivity, specificity, _ = calculate_metrics(y_true, y_prob, threshold)\n",
    "\n",
    "        youden_index = sensitivity + specificity - 1\n",
    "\n",
    "        if youden_index > best_youden_index:\n",
    "            best_youden_index = youden_index\n",
    "            best_threshold = threshold\n",
    "\n",
    "    print(\"\\nBest Threshold (Optimal):\", best_threshold)\n",
    "\n",
    "    # Calculate metrics for the optimal threshold\n",
    "    sensitivity_optimal, specificity_optimal, accuracy_optimal = calculate_metrics(y_true, y_prob, best_threshold)\n",
    "    print(\"Metrics for Optimal Threshold:\")\n",
    "    print(\"Sensitivity:\", sensitivity_optimal)\n",
    "    print(\"Specificity:\", specificity_optimal)\n",
    "    print(\"Accuracy:\", accuracy_optimal)\n",
    "\n",
    "# Calculate and print metrics for mean probability\n",
    "df_mean = df_test.groupby('participant', as_index=False).agg({'label': 'mean', 'probability': 'mean'})\n",
    "print_metrics(\"mean\", df_mean['label'], df_mean['probability'])\n",
    "\n",
    "# Calculate and print metrics for median probability\n",
    "df_median = df_test.groupby('participant', as_index=False).agg({'label': 'mean', 'probability': 'median'})\n",
    "print_metrics(\"median\", df_median['label'], df_median['probability'])\n",
    "\n",
    "# Calculate and print metrics for range probability\n",
    "df_range = df_test.groupby('participant', as_index=False).agg({'label': 'mean', 'probability': lambda x: np.max(x) - np.min(x)})\n",
    "print_metrics(\"range\", df_range['label'], df_range['probability'])\n",
    "\n",
    "df_mean.to_csv('solicited_participant_mean.csv', index=False)\n",
    "df_median.to_csv('solicited_participant_median.csv', index=False)\n",
    "df_range.to_csv('solicited_participant_range.csv', index=False)\n"
   ]
  },
  {
   "cell_type": "code",
   "execution_count": 35,
   "id": "62f93f20",
   "metadata": {},
   "outputs": [
    {
     "name": "stdout",
     "output_type": "stream",
     "text": [
      "     participant  label  probability\n",
      "0   CODA_TB_0002    1.0          0.0\n",
      "1   CODA_TB_0008    0.0          0.0\n",
      "2   CODA_TB_0012    1.0          0.0\n",
      "3   CODA_TB_0035    1.0          0.0\n",
      "4   CODA_TB_0036    0.0          0.0\n",
      "5   CODA_TB_0045    0.0          0.0\n",
      "6   CODA_TB_0052    0.0          0.0\n",
      "7   CODA_TB_0054    0.0          0.0\n",
      "8   CODA_TB_0055    0.0          0.0\n",
      "9   CODA_TB_0057    0.0          0.0\n",
      "10  CODA_TB_0071    1.0          0.0\n",
      "11  CODA_TB_0082    0.0          0.0\n",
      "12  CODA_TB_0091    1.0          0.0\n",
      "13  CODA_TB_0108    0.0          0.0\n",
      "14  CODA_TB_0116    1.0          0.0\n",
      "15  CODA_TB_0119    0.0          0.0\n",
      "16  CODA_TB_0122    0.0          0.0\n",
      "17  CODA_TB_0125    0.0          0.0\n",
      "18  CODA_TB_0131    0.0          0.0\n",
      "19  CODA_TB_0138    0.0          0.0\n"
     ]
    }
   ],
   "source": [
    "print(df_mean.head(20))"
   ]
  }
 ],
 "metadata": {
  "kernelspec": {
   "display_name": "Python 3 (ipykernel)",
   "language": "python",
   "name": "python3"
  },
  "language_info": {
   "codemirror_mode": {
    "name": "ipython",
    "version": 3
   },
   "file_extension": ".py",
   "mimetype": "text/x-python",
   "name": "python",
   "nbconvert_exporter": "python",
   "pygments_lexer": "ipython3",
   "version": "3.11.5"
  }
 },
 "nbformat": 4,
 "nbformat_minor": 5
}
